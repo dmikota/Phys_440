{
  "nbformat": 4,
  "nbformat_minor": 0,
  "metadata": {
    "colab": {
      "provenance": [],
      "include_colab_link": true
    },
    "kernelspec": {
      "name": "python3",
      "display_name": "Python 3"
    },
    "language_info": {
      "name": "python"
    }
  },
  "cells": [
    {
      "cell_type": "markdown",
      "metadata": {
        "id": "view-in-github",
        "colab_type": "text"
      },
      "source": [
        "<a href=\"https://colab.research.google.com/github/dmikota/Phys_440/blob/main/price_prediction.ipynb\" target=\"_parent\"><img src=\"https://colab.research.google.com/assets/colab-badge.svg\" alt=\"Open In Colab\"/></a>"
      ]
    },
    {
      "cell_type": "code",
      "execution_count": null,
      "metadata": {
        "id": "rc6Ta2eu359t"
      },
      "outputs": [],
      "source": [
        "#### Import statements ####\n",
        "\n",
        "\n",
        "import pandas as pd\n",
        "import numpy as np\n",
        "import matplotlib.pyplot as plt\n",
        "\n",
        "#import seaborn as sns\n",
        "from sklearn.model_selection import train_test_split\n",
        "from sklearn.linear_model import LinearRegression\n",
        "\n",
        "from sklearn.metrics import mean_squared_error, r2_score\n",
        "\n",
        "\n"
      ]
    },
    {
      "cell_type": "code",
      "source": [
        "## Here I am reading the data\n",
        "\n",
        "data = pd.read_csv(\"https://raw.githubusercontent.com/dmikota/Phys_440/main/housing.csv\")\n",
        "print(data.head())\n",
        "print(\"We have\", data.shape[0], \"rows of data with \", data.shape[1], \"columns\")\n",
        "\n",
        "data.isnull().sum() # this shows us if there are any values that are NAN, we can see that there is 207 total_bedrooms data points that are NAN\n",
        "\n"
      ],
      "metadata": {
        "colab": {
          "base_uri": "https://localhost:8080/"
        },
        "id": "keScgYboJFuG",
        "outputId": "e8ccf507-69ac-4781-9806-0f97b03be1aa"
      },
      "execution_count": null,
      "outputs": [
        {
          "output_type": "stream",
          "name": "stdout",
          "text": [
            "   longitude  latitude  housing_median_age  total_rooms  total_bedrooms  \\\n",
            "0    -122.23     37.88                41.0        880.0           129.0   \n",
            "1    -122.22     37.86                21.0       7099.0          1106.0   \n",
            "2    -122.24     37.85                52.0       1467.0           190.0   \n",
            "3    -122.25     37.85                52.0       1274.0           235.0   \n",
            "4    -122.25     37.85                52.0       1627.0           280.0   \n",
            "\n",
            "   population  households  median_income  median_house_value ocean_proximity  \n",
            "0       322.0       126.0         8.3252            452600.0        NEAR BAY  \n",
            "1      2401.0      1138.0         8.3014            358500.0        NEAR BAY  \n",
            "2       496.0       177.0         7.2574            352100.0        NEAR BAY  \n",
            "3       558.0       219.0         5.6431            341300.0        NEAR BAY  \n",
            "4       565.0       259.0         3.8462            342200.0        NEAR BAY  \n",
            "We have 20640 rows of data with  10 columns\n"
          ]
        },
        {
          "output_type": "execute_result",
          "data": {
            "text/plain": [
              "longitude               0\n",
              "latitude                0\n",
              "housing_median_age      0\n",
              "total_rooms             0\n",
              "total_bedrooms        207\n",
              "population              0\n",
              "households              0\n",
              "median_income           0\n",
              "median_house_value      0\n",
              "ocean_proximity         0\n",
              "dtype: int64"
            ]
          },
          "metadata": {},
          "execution_count": 3
        }
      ]
    },
    {
      "cell_type": "markdown",
      "source": [
        "Cleaning the data. I will remove all the columns of data that have NAN values. We can see that all the NAN values are spefically found in the total_bedrooms feature."
      ],
      "metadata": {
        "id": "3fgg3HfgRV_b"
      }
    },
    {
      "cell_type": "code",
      "source": [
        "data.dropna(how = 'any',inplace = True) \n",
        "\n",
        "# Now to see the sum of all the Nan terms,\n",
        "\n",
        "data.isnull().sum() \n",
        "# which is now zero "
      ],
      "metadata": {
        "colab": {
          "base_uri": "https://localhost:8080/"
        },
        "id": "FYUXiFV2RivF",
        "outputId": "d1e63742-30a1-4638-f40c-9094c1f696cb"
      },
      "execution_count": null,
      "outputs": [
        {
          "output_type": "execute_result",
          "data": {
            "text/plain": [
              "longitude             0\n",
              "latitude              0\n",
              "housing_median_age    0\n",
              "total_rooms           0\n",
              "total_bedrooms        0\n",
              "population            0\n",
              "households            0\n",
              "median_income         0\n",
              "median_house_value    0\n",
              "ocean_proximity       0\n",
              "dtype: int64"
            ]
          },
          "metadata": {},
          "execution_count": 4
        }
      ]
    },
    {
      "cell_type": "markdown",
      "source": [
        "We must first divide the data frame into 2 arrays. One array has the house price value while the other array has all the other features."
      ],
      "metadata": {
        "id": "613uia-C7LR8"
      }
    },
    {
      "cell_type": "code",
      "source": [
        "X = data[['longitude', 'latitude', 'housing_median_age', 'total_rooms',\n",
        "       'total_bedrooms', 'population', 'households', 'median_income',]]\n",
        "y = data[\"median_house_value\"]       \n",
        "\n"
      ],
      "metadata": {
        "id": "7ObSNNJz7eeB"
      },
      "execution_count": null,
      "outputs": []
    },
    {
      "cell_type": "markdown",
      "source": [
        "Now lets us split our data into 2 sets. Our training set and our test set. We will split up the data using sklearn built in function. The 3 blocks of data are there to aid in the creation of the error bars that we will need later for our scatter plots.\n",
        "\n",
        "\n",
        "\n"
      ],
      "metadata": {
        "id": "uS0llPpw8qCI"
      }
    },
    {
      "cell_type": "code",
      "source": [
        "X_train, X_test, y_train, y_test = train_test_split(   X, y, test_size=0.30, random_state=49)\n",
        "\n",
        "######    The test_size is referring to the percentage that of the whole data that will be convrted into test data.\n",
        "#####     The random_state is how random that the splitting will be. If someonne chooses a different number than they will\n",
        "###       get a slightly different predictions than us.\n",
        "\n",
        "X1_train, X1_test, y1_train, y1_test = train_test_split(   X, y, test_size=0.30, random_state=5)\n",
        "\n",
        "X2_train, X2_test, y2_train, y2_test = train_test_split(   X, y, test_size=0.30, random_state=80)\n"
      ],
      "metadata": {
        "id": "KGheHu-j9pLj"
      },
      "execution_count": null,
      "outputs": []
    },
    {
      "cell_type": "markdown",
      "source": [
        "Now that we've split our data we can fit our model on the training data. "
      ],
      "metadata": {
        "id": "0CbbDErt_PII"
      }
    },
    {
      "cell_type": "markdown",
      "source": [
        "We will begin with a creating a linear regression model algorithm to model the predictions."
      ],
      "metadata": {
        "id": "Vqf-xVm6_Wf0"
      }
    },
    {
      "cell_type": "code",
      "source": [
        "from sklearn.linear_model import LinearRegression\n",
        "\n",
        "#### We need to create a LinearRegression model. So we will instatiate it with the variable inst\n",
        "inst = LinearRegression()\n",
        "\n",
        "inst.fit(X_train, y_train)    ## Fitting our liner regression model onto our training data \n",
        "inst.fit(X1_train, y1_train)\n",
        "inst.fit(X2_train, y2_train)\n",
        "\n",
        "\n",
        "print(inst.coef_,'This shows us the weights or the coefficients of each variable.')\n",
        "\n",
        "\n",
        "\n",
        "\n",
        "\n",
        "\n",
        "#### We now want to make prediction on data that the model hasn't see before.\n",
        "\n",
        "\n",
        "\n",
        "price_predictions = inst.predict(X_test)\n",
        "price_predictions1 = inst.predict(X1_test)\n",
        "price_predictions2 = inst.predict(X2_test)\n",
        "\n",
        "\n",
        "## price_predictions is an array with house values based on the other features.\n",
        "\n",
        "\n",
        "\n",
        "\n",
        "\n",
        "plt.scatter(price_predictions, y_test)\n",
        "plt.ylabel(\"House prices from data set($)\")\n",
        "plt.xlabel(\"House prices created by price predictions($)\")\n",
        "plt.title(\"House price prediction using linear regression with 8 coefficients\")\n"
      ],
      "metadata": {
        "colab": {
          "base_uri": "https://localhost:8080/",
          "height": 349
        },
        "id": "maDFVsvS_lZw",
        "outputId": "9c6a76a7-67e1-4171-a0b9-eb654544206f"
      },
      "execution_count": null,
      "outputs": [
        {
          "output_type": "stream",
          "name": "stdout",
          "text": [
            "[-4.24459688e+04 -4.25729529e+04  1.15264857e+03 -8.30617365e+00\n",
            "  1.22495469e+02 -3.79296110e+01  3.62909066e+01  4.04907178e+04] This shows us the weights or the coefficients of each variable.\n"
          ]
        },
        {
          "output_type": "execute_result",
          "data": {
            "text/plain": [
              "Text(0.5, 1.0, 'House price prediction using linear regression with 8 coefficients')"
            ]
          },
          "metadata": {},
          "execution_count": 85
        },
        {
          "output_type": "display_data",
          "data": {
            "text/plain": [
              "<Figure size 432x288 with 1 Axes>"
            ],
            "image/png": "[encoded data removed]"
          },
          "metadata": {
            "needs_background": "light"
          }
        }
      ]
    },
    {
      "cell_type": "markdown",
      "source": [
        "The following code is to create the error bars for the above plot."
      ],
      "metadata": {
        "id": "lX7g8EchrBci"
      }
    },
    {
      "cell_type": "code",
      "source": [
        "#Cycling through to find the average \n",
        "mean_list = []\n",
        "stand_dev_list = []\n",
        "y_test_list = []\n",
        "\n",
        "# I needed to cast the y_test as list's since they were originally series. Series are a lot more tedious to work with.\n",
        "\n",
        "y_test = list(y_test)\n",
        "y1_test = list(y1_test)\n",
        "y2_test = list(y2_test)\n",
        "\n",
        "\n",
        "for i in range(len(price_predictions)):\n",
        "  mean = (price_predictions[i] + price_predictions1[i] + price_predictions2[i]) /3\n",
        "  y_test_avg =  (y_test[i] +  y1_test[i] +  y2_test[i]) / 3\n",
        "  \n",
        "  stand_dev = np.std(mean)\n",
        " \n",
        "  mean_list.append(mean)\n",
        "  stand_dev_list.append(stand_dev)\n",
        "\n",
        "  y_test_list.append(y_test_avg)"
      ],
      "metadata": {
        "id": "1kqdKnaWR9r_"
      },
      "execution_count": null,
      "outputs": []
    },
    {
      "cell_type": "code",
      "source": [
        "### Plotting but now with the error bars\n",
        "\n",
        "#price_predictions, y_test\n",
        "plt.errorbar(price_predictions, y_test,stand_dev_list,fmt=\"o\")\n",
        "#mean_list,y_test_list)\n",
        "\n",
        "plt.ylabel(\"House prices from data set($)\")\n",
        "plt.xlabel(\"House prices created by price predictions($)\")\n",
        "plt.title(\"House price prediction using average price with 3 different random states\")\n",
        "\n",
        "\n"
      ],
      "metadata": {
        "colab": {
          "base_uri": "https://localhost:8080/",
          "height": 313
        },
        "id": "g5DLlU57VwbE",
        "outputId": "81613fae-18f1-445f-b21f-396751314d7e"
      },
      "execution_count": null,
      "outputs": [
        {
          "output_type": "execute_result",
          "data": {
            "text/plain": [
              "Text(0.5, 1.0, 'House price prediction using average price with 3 different random states')"
            ]
          },
          "metadata": {},
          "execution_count": 101
        },
        {
          "output_type": "display_data",
          "data": {
            "text/plain": [
              "<Figure size 432x288 with 1 Axes>"
            ],
            "image/png": "[encoded data removed]"
          },
          "metadata": {
            "needs_background": "light"
          }
        }
      ]
    },
    {
      "cell_type": "markdown",
      "source": [
        "The error bars are so small that we can't even see them on our plots."
      ],
      "metadata": {
        "id": "l75lyDwSsVni"
      }
    },
    {
      "cell_type": "markdown",
      "source": [
        "I will now determine the most signifcant feature in my dataset my making a bar graph that shows the weights of each feature."
      ],
      "metadata": {
        "id": "qKRFDfS8sd6M"
      }
    },
    {
      "cell_type": "code",
      "source": [
        "variables = np.arange(0,8,1)\n",
        "\n",
        "\n",
        "plt.bar(variables,inst.coef_)\n",
        "plt.ylabel(\"Weight\")\n",
        "plt.xlabel(\"Features\")\n",
        "plt.title(\"The weight of features determined by the linear regression fit \")"
      ],
      "metadata": {
        "colab": {
          "base_uri": "https://localhost:8080/",
          "height": 313
        },
        "id": "aekZ2Lbriivl",
        "outputId": "89bbcd44-a2e8-46fb-9e02-e9de0b7d0802"
      },
      "execution_count": null,
      "outputs": [
        {
          "output_type": "execute_result",
          "data": {
            "text/plain": [
              "Text(0.5, 1.0, 'The weight of features determined by the linear regression fit ')"
            ]
          },
          "metadata": {},
          "execution_count": 102
        },
        {
          "output_type": "display_data",
          "data": {
            "text/plain": [
              "<Figure size 432x288 with 1 Axes>"
            ],
            "image/png": "[encoded data removed]"
          },
          "metadata": {
            "needs_background": "light"
          }
        }
      ]
    },
    {
      "cell_type": "markdown",
      "source": [
        "I will now redo the fitting and predictions using only the 3 variables that have a large weight. Specifically, the longititude, the lattitude and the median income."
      ],
      "metadata": {
        "id": "nLoom4W0tDSl"
      }
    },
    {
      "cell_type": "code",
      "source": [
        "X_removed = data[['longitude', 'latitude','median_income',]]\n",
        "y_removed = data[\"median_house_value\"]     \n",
        "\n",
        "\n",
        "X_train_remo, X_test_remo, y_train_remo, y_test_remo = train_test_split(   X_removed, y_removed, test_size=0.30, random_state=49)\n",
        "\n",
        "\n",
        "\n",
        "inst.fit(X_train_remo, y_train_remo)    ## Fitting our linera regression model onto our training data \n",
        "\n",
        "\n",
        "\n",
        "\n",
        "print(inst.coef_,'This shows us the weights or the coefficients of each variable.')\n",
        "\n",
        "\n",
        "\n",
        "\n",
        "\n",
        "price_predictions_remo = inst.predict(X_test_remo)\n",
        "\n",
        "plt.scatter(price_predictions_remo,y_test_remo)\n",
        "\n",
        "print(np.sqrt(mean_squared_error(y_test_remo, price_predictions_remo)))\n",
        "print(r2_score(y_test_remo, price_predictions_remo))\n",
        "plt.title(\"House price prediction using linear regression with 3 coefficients\")\n",
        "plt.ylabel(\"House prices from data set($)\")\n",
        "plt.xlabel(\"House prices created by price predictions($)\")"
      ],
      "metadata": {
        "colab": {
          "base_uri": "https://localhost:8080/",
          "height": 366
        },
        "id": "MLhMMVfytCYo",
        "outputId": "bccf7fd6-75fe-4776-85a5-79bda2d3926c"
      },
      "execution_count": null,
      "outputs": [
        {
          "output_type": "stream",
          "name": "stdout",
          "text": [
            "[-49622.03744274 -48293.36997152  36519.30127194] This shows us the weights or the coefficients of each variable.\n",
            "74369.55627336337\n",
            "0.5877662573066766\n"
          ]
        },
        {
          "output_type": "execute_result",
          "data": {
            "text/plain": [
              "Text(0.5, 0, 'House prices created by price predictions($)')"
            ]
          },
          "metadata": {},
          "execution_count": 103
        },
        {
          "output_type": "display_data",
          "data": {
            "text/plain": [
              "<Figure size 432x288 with 1 Axes>"
            ],
            "image/png": "[encoded data removed]"
          },
          "metadata": {
            "needs_background": "light"
          }
        }
      ]
    },
    {
      "cell_type": "markdown",
      "source": [
        "We will now use root mean square deviation to get a metric on the fit on our linear regression model. Using 3 coefficients versus 8 coefficients."
      ],
      "metadata": {
        "id": "g2esw-rEEZxk"
      }
    },
    {
      "cell_type": "code",
      "source": [
        "\n",
        "print('the R sqaured score for 8 coefficients is ', r2_score(y_test, price_predictions), 'while for 3 coefficients', r2_score(y_test_remo, price_predictions_remo) )\n"
      ],
      "metadata": {
        "colab": {
          "base_uri": "https://localhost:8080/"
        },
        "id": "hCsIonvOErqQ",
        "outputId": "3c83476b-43a0-43c5-e81c-5f612eea9564"
      },
      "execution_count": null,
      "outputs": [
        {
          "output_type": "stream",
          "name": "stdout",
          "text": [
            "the R sqaured score for 8 coefficients is  0.6459599200618611 while for 3 coefficients 0.5877662573066766\n"
          ]
        }
      ]
    },
    {
      "cell_type": "markdown",
      "source": [
        "The R squared is higher for 8 coefficients meaning that all features are essential in the fit."
      ],
      "metadata": {
        "id": "5MKszYdYtxjT"
      }
    }
  ]
}